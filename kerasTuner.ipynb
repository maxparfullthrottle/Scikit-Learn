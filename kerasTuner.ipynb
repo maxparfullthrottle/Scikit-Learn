{
  "nbformat": 4,
  "nbformat_minor": 0,
  "metadata": {
    "colab": {
      "name": "kerasTuner.ipynb",
      "provenance": [],
      "collapsed_sections": [],
      "authorship_tag": "ABX9TyOWUsF0q6akwAlk4CMxhk8x",
      "include_colab_link": true
    },
    "kernelspec": {
      "name": "python3",
      "display_name": "Python 3"
    },
    "language_info": {
      "name": "python"
    }
  },
  "cells": [
    {
      "cell_type": "markdown",
      "metadata": {
        "id": "view-in-github",
        "colab_type": "text"
      },
      "source": [
        "<a href=\"https://colab.research.google.com/github/maxparfullthrottle/Scikit-Learn/blob/master/kerasTuner.ipynb\" target=\"_parent\"><img src=\"https://colab.research.google.com/assets/colab-badge.svg\" alt=\"Open In Colab\"/></a>"
      ]
    },
    {
      "cell_type": "code",
      "metadata": {
        "colab": {
          "base_uri": "https://localhost:8080/"
        },
        "id": "h8AvfCtm0ozc",
        "outputId": "c5e801d6-561e-44b1-d23f-66c64e74388e"
      },
      "source": [
        "import tensorflow as tf\n",
        "print(tf.__version__)\n",
        "import keras\n",
        "print(keras.__version__)\n",
        "#!pip install keras-tuner\n",
        "import kerastuner\n",
        "print(kerastuner.__version__)"
      ],
      "execution_count": 8,
      "outputs": [
        {
          "output_type": "stream",
          "text": [
            "2.4.1\n",
            "2.4.3\n",
            "1.0.2\n"
          ],
          "name": "stdout"
        }
      ]
    },
    {
      "cell_type": "code",
      "metadata": {
        "colab": {
          "base_uri": "https://localhost:8080/"
        },
        "id": "wz32HNWC2zAs",
        "outputId": "93fe418d-a3cf-4ec3-bf24-ab0102f8ceef"
      },
      "source": [
        "from tensorflow.keras.datasets import fashion_mnist\n",
        "(x_train, y_train), (x_test, y_test) = fashion_mnist.load_data()   #get the data\n",
        "\n",
        "print(x_train.shape)"
      ],
      "execution_count": 17,
      "outputs": [
        {
          "output_type": "stream",
          "text": [
            "(60000, 28, 28)\n"
          ],
          "name": "stdout"
        }
      ]
    },
    {
      "cell_type": "code",
      "metadata": {
        "colab": {
          "base_uri": "https://localhost:8080/",
          "height": 299
        },
        "id": "DdTUj9FN4RRR",
        "outputId": "6248cdba-8c8d-44fe-cab8-95c7b4ec2904"
      },
      "source": [
        "#Visualize the data\n",
        "import matplotlib.pyplot as plt\n",
        "%matplotlib inline\n",
        "\n",
        "print(y_test[0])\n",
        "plt.imshow(x_test[0], cmap=\"gray\")"
      ],
      "execution_count": 18,
      "outputs": [
        {
          "output_type": "stream",
          "text": [
            "9\n"
          ],
          "name": "stdout"
        },
        {
          "output_type": "execute_result",
          "data": {
            "text/plain": [
              "<matplotlib.image.AxesImage at 0x7ff0eeb9e590>"
            ]
          },
          "metadata": {
            "tags": []
          },
          "execution_count": 18
        },
        {
          "output_type": "display_data",
          "data": {
            "image/png": "[encoded data removed]",
            "text/plain": [
              "<Figure size 432x288 with 1 Axes>"
            ]
          },
          "metadata": {
            "tags": [],
            "needs_background": "light"
          }
        }
      ]
    },
    {
      "cell_type": "code",
      "metadata": {
        "id": "sTIs0KI34cC6"
      },
      "source": [
        "from tensorflow.keras.layers import Conv2D, MaxPooling2D, Dense, Flatten, Activation\n",
        "#Now we will reshape the input data for input to a convolutional neural network:\n",
        "\n",
        "x_train = x_train.reshape(-1, 28, 28,1)\n",
        "x_test = x_test.reshape(-1, 28, 28,1)\n"
      ],
      "execution_count": 20,
      "outputs": []
    },
    {
      "cell_type": "code",
      "metadata": {
        "colab": {
          "base_uri": "https://localhost:8080/"
        },
        "id": "oy484Ci27UoO",
        "outputId": "919f8b7f-e0b9-4985-ae60-7ea0e04c677f"
      },
      "source": [
        "def build_model():  \n",
        "    model = keras.models.Sequential()\n",
        "    \n",
        "    model.add(Conv2D(32, (3, 3), input_shape=x_train.shape[1:]))\n",
        "    model.add(Activation('relu'))\n",
        "    model.add(MaxPooling2D(pool_size=(2, 2)))\n",
        "\n",
        "    model.add(Conv2D(32, (3, 3)))\n",
        "    model.add(Activation('relu'))\n",
        "    model.add(MaxPooling2D(pool_size=(2, 2)))\n",
        "\n",
        "    model.add(Flatten()) \n",
        "\n",
        "    model.add(Dense(10))\n",
        "    model.add(Activation(\"softmax\"))\n",
        "\n",
        "    model.compile(optimizer=\"adam\",\n",
        "                  loss=\"sparse_categorical_crossentropy\",\n",
        "                  metrics=[\"accuracy\"])\n",
        "    \n",
        "    return model\n",
        "\n",
        "model = build_model()\n",
        "model.fit(x_train,y_train, 32, 5, validation_data=(x_test,y_test), verbose=1)"
      ],
      "execution_count": 25,
      "outputs": [
        {
          "output_type": "stream",
          "text": [
            "Epoch 1/5\n",
            "1875/1875 [==============================] - 44s 23ms/step - loss: 1.2475 - accuracy: 0.7358 - val_loss: 0.4303 - val_accuracy: 0.8470\n",
            "Epoch 2/5\n",
            "1875/1875 [==============================] - 43s 23ms/step - loss: 0.3936 - accuracy: 0.8591 - val_loss: 0.4057 - val_accuracy: 0.8578\n",
            "Epoch 3/5\n",
            "1875/1875 [==============================] - 43s 23ms/step - loss: 0.3447 - accuracy: 0.8737 - val_loss: 0.3732 - val_accuracy: 0.8716\n",
            "Epoch 4/5\n",
            "1875/1875 [==============================] - 43s 23ms/step - loss: 0.3261 - accuracy: 0.8809 - val_loss: 0.3553 - val_accuracy: 0.8703\n",
            "Epoch 5/5\n",
            "1875/1875 [==============================] - 43s 23ms/step - loss: 0.3039 - accuracy: 0.8885 - val_loss: 0.3556 - val_accuracy: 0.8759\n"
          ],
          "name": "stdout"
        },
        {
          "output_type": "execute_result",
          "data": {
            "text/plain": [
              "<tensorflow.python.keras.callbacks.History at 0x7ff0eea7c0d0>"
            ]
          },
          "metadata": {
            "tags": []
          },
          "execution_count": 25
        }
      ]
    },
    {
      "cell_type": "code",
      "metadata": {
        "id": "uUgkL0cm-Ngd"
      },
      "source": [
        "from kerastuner.tuners import RandomSearch\n",
        "from kerastuner.engine.hyperparameters import HyperParameters\n",
        "\n",
        "import time\n",
        "LOG_DIR = f\"{int(time.time())}\" #create a timebound ddirectory"
      ],
      "execution_count": 27,
      "outputs": []
    },
    {
      "cell_type": "markdown",
      "metadata": {
        "id": "gkZ-Lkkq_HXG"
      },
      "source": [
        "# The final code examples"
      ]
    },
    {
      "cell_type": "code",
      "metadata": {
        "id": "XGGBB-u--pRd"
      },
      "source": [
        "from tensorflow.keras.datasets import fashion_mnist\n",
        "from tensorflow.keras.callbacks import TensorBoard\n",
        "\n",
        "from tensorflow import keras\n",
        "from tensorflow.keras.layers import Conv2D, MaxPooling2D, Dense, Flatten, Activation\n",
        "from tensorflow.keras import layers\n",
        "from kerastuner.tuners import RandomSearch\n",
        "from kerastuner.engine.hyperparameters import HyperParameters\n",
        "import time\n",
        "import pickle\n",
        "\n",
        "LOG_DIR = f\"{int(time.time())}\"\n",
        "\n",
        "tensorboard = TensorBoard(log_dir=LOG_DIR)"
      ],
      "execution_count": 28,
      "outputs": []
    },
    {
      "cell_type": "code",
      "metadata": {
        "id": "DkJdkeBlCYN0"
      },
      "source": [
        "'''\n",
        "Label   Description\n",
        "0   T-shirt/top\n",
        "1   Trouser\n",
        "2   Pullover\n",
        "3   Dress\n",
        "4   Coat\n",
        "5   Sandal\n",
        "6   Shirt\n",
        "7   Sneaker\n",
        "8   Bag\n",
        "9   Ankle boot'''"
      ],
      "execution_count": null,
      "outputs": []
    },
    {
      "cell_type": "code",
      "metadata": {
        "colab": {
          "base_uri": "https://localhost:8080/"
        },
        "id": "ALZJSIzkCf0r",
        "outputId": "a84a9c55-19c1-4e57-fd08-d0be05df6e11"
      },
      "source": [
        "(x_train, y_train), (x_test, y_test) = fashion_mnist.load_data()\n",
        "x_train = x_train.reshape(-1, 28, 28, 1)  # reshaping for convnet\n",
        "x_test = x_test.reshape(-1, 28, 28, 1)  # reshaping for convnet\n",
        "\n",
        "\n",
        "def build_auto_model(hp):  # random search passes this hyperparameter() object \n",
        "    model = keras.models.Sequential()\n",
        "\n",
        "    model.add(Conv2D(hp.Int('input_units',\n",
        "                                min_value=32,\n",
        "                                max_value=256,\n",
        "                                step=32), (3, 3), input_shape=x_train.shape[1:]))\n",
        "\n",
        "    model.add(Activation('relu'))\n",
        "    model.add(MaxPooling2D(pool_size=(2, 2)))\n",
        "\n",
        "    for i in range(hp.Int('n_layers', 1, 4)):  # adding variation of layers.\n",
        "        model.add(Conv2D(hp.Int(f'conv_{i}_units',\n",
        "                                min_value=32,\n",
        "                                max_value=256,\n",
        "                                step=32), (3, 3)))\n",
        "        model.add(Activation('relu'))\n",
        "\n",
        "    model.add(Flatten()) \n",
        "    model.add(Dense(10))\n",
        "    model.add(Activation(\"softmax\"))\n",
        "\n",
        "    model.compile(optimizer=\"adam\",\n",
        "                  loss=\"sparse_categorical_crossentropy\",\n",
        "                  metrics=[\"accuracy\"])\n",
        "\n",
        "    return model\n",
        "\n",
        "\n",
        "tuner = RandomSearch(\n",
        "    build_auto_model,\n",
        "    objective='val_accuracy',\n",
        "    max_trials=20,  # how many variations on model?\n",
        "    executions_per_trial=2,  # how many trials per variation? (same model could perform differently)\n",
        "    directory=LOG_DIR)\n",
        "\n",
        "tuner.search_space_summary()\n",
        "\n",
        "tuner.search(x=x_train,\n",
        "             y=y_train,\n",
        "             epochs=3,\n",
        "             batch_size=64,\n",
        "             callbacks=[tensorboard],\n",
        "             validation_data=(x_test, y_test))\n",
        "\n",
        "tuner.results_summary()\n",
        "\n",
        "with open(f\"tuner_{int(time.time())}.pkl\", \"wb\") as f:\n",
        "    pickle.dump(tuner, f)"
      ],
      "execution_count": null,
      "outputs": [
        {
          "output_type": "stream",
          "text": [
            "Trial 9 Complete [01h 00m 47s]\n",
            "val_accuracy: 0.8912500143051147\n",
            "\n",
            "Best val_accuracy So Far: 0.893449991941452\n",
            "Total elapsed time: 05h 08m 49s\n",
            "\n",
            "Search: Running Trial #10\n",
            "\n",
            "Hyperparameter    |Value             |Best Value So Far \n",
            "input_units       |160               |32                \n",
            "n_layers          |4                 |3                 \n",
            "conv_0_units      |128               |64                \n",
            "conv_1_units      |224               |64                \n",
            "conv_2_units      |192               |192               \n",
            "conv_3_units      |64                |160               \n",
            "\n",
            "Epoch 1/3\n",
            "938/938 [==============================] - 647s 689ms/step - loss: 1.1735 - accuracy: 0.7487 - val_loss: 0.3734 - val_accuracy: 0.8673\n",
            "Epoch 2/3\n",
            "938/938 [==============================] - 646s 688ms/step - loss: 0.3223 - accuracy: 0.8842 - val_loss: 0.3095 - val_accuracy: 0.8895\n",
            "Epoch 3/3\n",
            "938/938 [==============================] - 644s 687ms/step - loss: 0.2781 - accuracy: 0.8976 - val_loss: 0.2977 - val_accuracy: 0.8949\n",
            "Epoch 1/3\n",
            "572/938 [=================>............] - ETA: 4:02 - loss: 1.2574 - accuracy: 0.6726"
          ],
          "name": "stdout"
        }
      ]
    },
    {
      "cell_type": "code",
      "metadata": {
        "id": "WXQzHlp4Eq8C"
      },
      "source": [
        "tuner.get_best_models()[0].summary()"
      ],
      "execution_count": null,
      "outputs": []
    }
  ]
}